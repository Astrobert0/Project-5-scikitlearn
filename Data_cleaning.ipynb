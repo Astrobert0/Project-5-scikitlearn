{
 "metadata": {
  "language_info": {
   "codemirror_mode": {
    "name": "ipython",
    "version": 3
   },
   "file_extension": ".py",
   "mimetype": "text/x-python",
   "name": "python",
   "nbconvert_exporter": "python",
   "pygments_lexer": "ipython3",
   "version": "3.8.5"
  },
  "orig_nbformat": 2,
  "kernelspec": {
   "name": "python385jvsc74a57bd09efc80705562ef6f8028ba9c07828938c290468cbec0ebcf2b44f68ee94d478d",
   "display_name": "Python 3.8.5 64-bit"
  }
 },
 "nbformat": 4,
 "nbformat_minor": 2,
 "cells": [
  {
   "cell_type": "code",
   "execution_count": 1,
   "metadata": {},
   "outputs": [],
   "source": [
    "import pandas as pd \n",
    "import os\n",
    "import numpy as np\n",
    "import seaborn as sns\n",
    "\n",
    "datarent ={}\n",
    "datasale = {}\n",
    "\n"
   ]
  },
  {
   "cell_type": "code",
   "execution_count": null,
   "metadata": {},
   "outputs": [],
   "source": [
    "\"\"\"In this cell we celaned the train data for the model, in the data_train_collection file what it does is that for each page create the csv file, and then save it in the folder\"\"\"\n",
    "\n",
    "\n",
    "\n",
    "for file in os.listdir('../Project-5-scikitlearn/Data_rent'):\n",
    "        datarent[file] = pd.DataFrame(pd.read_csv(f'../Project-5-scikitlearn/Data_rent/{file}', index_col=False))\n",
    "\n",
    "for file in os.listdir('../Project-5-scikitlearn/Data_sale'):\n",
    "    datasale[file] = pd.DataFrame(pd.read_csv(f'../Project-5-scikitlearn/Data_sale/{file}',index_col=False)) #read files and assign it to a dictionary\n",
    "\n",
    "rawrent = pd.concat(datarent).droplevel(0)\n",
    "rawsale = pd.concat(datasale).droplevel(0)#merging the respective dataframes into one\n",
    "dfrent = rawrent[['propertyCode','price','floor','operation', 'size','rooms', 'bathrooms','latitude', 'longitude','priceByArea','propertyType']] #This are the feature to use in the model\n",
    "dfsale = rawsale[['propertyCode','price','floor','operation', 'size','rooms', 'bathrooms','latitude', 'longitude','priceByArea','propertyType']]\n",
    "\n",
    "dfrent['floor'].replace(to_replace='bj',value=np.int(0),regex=True,inplace=True)\n",
    "dfsale['floor'].replace(to_replace='bj',value=np.int(0),regex=True,inplace=True) #Bj it is the ground floor, changing it to 0\n",
    "\n",
    "dfrent['floor'].replace(to_replace='st',value=np.nan,regex=True,inplace=True)\n",
    "dfsale['floor'].replace(to_replace='st',value=np.nan,regex=True,inplace=True)\n",
    "\n",
    "\n",
    "dfsale.dropna(inplace=True)\n",
    "dfrent.dropna(inplace=True) #dropping null values\n",
    "\n",
    "dfrent['floorNumeric']= pd.to_numeric(dfrent['floor'])\n",
    "dfsale['floorNumeric']= pd.to_numeric(dfsale['floor']) #the data type in some numbers is string, we must chage it to integer\n",
    "\n",
    "dfrent.drop(columns = 'floor',inplace=True) #dropping the column that we do not use\n",
    "dfsale.drop(columns = 'floor',inplace=True)\n",
    "\n",
    "display(dfrent['propertyType'].value_counts(), dfsale['propertyType'].value_counts())\n",
    "\n",
    "dfsale.drop(index = dfsale[dfsale['propertyType']=='countryHouse'].index,inplace=True)\n",
    "dfsale.drop(index = dfsale[dfsale['propertyType']=='chalet'].index,inplace=True)\n",
    "\n",
    "dfsale.to_csv('../Project-5-scikitlearn/sale.csv')\n",
    "dfrent.to_csv('../Project-5-scikitlearn/rent.csv')"
   ]
  },
  {
   "cell_type": "code",
   "execution_count": 2,
   "metadata": {},
   "outputs": [
    {
     "output_type": "stream",
     "name": "stderr",
     "text": [
      "C:\\Users\\Sebas!\\AppData\\Local\\Programs\\Python\\Python38\\lib\\site-packages\\pandas\\core\\series.py:4563: SettingWithCopyWarning: \nA value is trying to be set on a copy of a slice from a DataFrame\n\nSee the caveats in the documentation: https://pandas.pydata.org/pandas-docs/stable/user_guide/indexing.html#returning-a-view-versus-a-copy\n  return super().replace(\n<ipython-input-2-cb6d7375aa20>:18: SettingWithCopyWarning: \nA value is trying to be set on a copy of a slice from a DataFrame\n\nSee the caveats in the documentation: https://pandas.pydata.org/pandas-docs/stable/user_guide/indexing.html#returning-a-view-versus-a-copy\n  dfsale.dropna(inplace=True)\n<ipython-input-2-cb6d7375aa20>:19: SettingWithCopyWarning: \nA value is trying to be set on a copy of a slice from a DataFrame\n\nSee the caveats in the documentation: https://pandas.pydata.org/pandas-docs/stable/user_guide/indexing.html#returning-a-view-versus-a-copy\n  dfrent.dropna(inplace=True) #dropping null values\n<ipython-input-2-cb6d7375aa20>:21: SettingWithCopyWarning: \nA value is trying to be set on a copy of a slice from a DataFrame.\nTry using .loc[row_indexer,col_indexer] = value instead\n\nSee the caveats in the documentation: https://pandas.pydata.org/pandas-docs/stable/user_guide/indexing.html#returning-a-view-versus-a-copy\n  dfrent['floorNumeric']= pd.to_numeric(dfrent['floor'])\n<ipython-input-2-cb6d7375aa20>:22: SettingWithCopyWarning: \nA value is trying to be set on a copy of a slice from a DataFrame.\nTry using .loc[row_indexer,col_indexer] = value instead\n\nSee the caveats in the documentation: https://pandas.pydata.org/pandas-docs/stable/user_guide/indexing.html#returning-a-view-versus-a-copy\n  dfsale['floorNumeric']= pd.to_numeric(dfsale['floor']) #the data type in some numbers is string, we must chage it to integer\nC:\\Users\\Sebas!\\AppData\\Local\\Programs\\Python\\Python38\\lib\\site-packages\\pandas\\core\\frame.py:4163: SettingWithCopyWarning: \nA value is trying to be set on a copy of a slice from a DataFrame\n\nSee the caveats in the documentation: https://pandas.pydata.org/pandas-docs/stable/user_guide/indexing.html#returning-a-view-versus-a-copy\n  return super().drop(\n"
     ]
    },
    {
     "output_type": "display_data",
     "data": {
      "text/plain": "flat         94\nstudio        8\nduplex        6\npenthouse     1\nName: propertyType, dtype: int64"
     },
     "metadata": {}
    },
    {
     "output_type": "display_data",
     "data": {
      "text/plain": "flat         94\nstudio        3\nduplex        3\npenthouse     1\nName: propertyType, dtype: int64"
     },
     "metadata": {}
    }
   ],
   "source": [
    "\"\"\"in this cell we cleaned the test data from the data_test_collection file\"\"\"\n",
    "\n",
    "\n",
    "\n",
    "dfrenttest = pd.read_csv(f'../Project-5-scikitlearn/Data_rent/rent_test.csv')\n",
    "dfsaletest = pd.read_csv(f'../Project-5-scikitlearn/Data_sale/sale_test.csv')\n",
    "\n",
    "dfrent = dfrenttest[['propertyCode','price','floor','operation', 'size','rooms', 'bathrooms','latitude', 'longitude','priceByArea','propertyType']] #This are the feature to use in the model\n",
    "dfsale = dfsaletest[['propertyCode','price','floor','operation', 'size','rooms', 'bathrooms','latitude', 'longitude','priceByArea','propertyType']]\n",
    "\n",
    "dfrent['floor'].replace(to_replace='bj',value=np.int(0),regex=True,inplace=True)\n",
    "dfsale['floor'].replace(to_replace='bj',value=np.int(0),regex=True,inplace=True) #Bj it is the ground floor, changing it to 0\n",
    "\n",
    "dfrent['floor'].replace(to_replace='[a-z]',value=np.nan,regex=True,inplace=True)\n",
    "dfsale['floor'].replace(to_replace='[a-z]',value=np.nan,regex=True,inplace=True)\n",
    "\n",
    "\n",
    "dfsale.dropna(inplace=True)\n",
    "dfrent.dropna(inplace=True) #dropping null values\n",
    "\n",
    "dfrent['floorNumeric']= pd.to_numeric(dfrent['floor'])\n",
    "dfsale['floorNumeric']= pd.to_numeric(dfsale['floor']) #the data type in some numbers is string, we must chage it to integer\n",
    "\n",
    "dfrent.drop(columns = 'floor',inplace=True) #dropping the column that we do not use\n",
    "dfsale.drop(columns = 'floor',inplace=True)\n",
    "\n",
    "display(dfrent['propertyType'].value_counts(), dfsale['propertyType'].value_counts())\n",
    "\n",
    "dfsale.drop(index = dfsale[dfsale['propertyType']=='countryHouse'].index,inplace=True)\n",
    "dfsale.drop(index = dfsale[dfsale['propertyType']=='chalet'].index,inplace=True)\n",
    "\n",
    "\n",
    "dfsale.to_csv('../Project-5-scikitlearn/sale_test_cleaned.csv')\n",
    "dfrent.to_csv('../Project-5-scikitlearn/rent_test_cleaned.csv')"
   ]
  },
  {
   "cell_type": "code",
   "execution_count": 11,
   "metadata": {},
   "outputs": [
    {
     "output_type": "execute_result",
     "data": {
      "text/plain": [
       "2     30\n",
       "3     23\n",
       "4     18\n",
       "bj    14\n",
       "1     13\n",
       "5      5\n",
       "st     4\n",
       "6      3\n",
       "ss     1\n",
       "7      1\n",
       "12     1\n",
       "11     1\n",
       "Name: floor, dtype: int64"
      ]
     },
     "metadata": {},
     "execution_count": 11
    }
   ],
   "source": [
    "\n",
    "dfrent['floor'].value_counts()"
   ]
  },
  {
   "cell_type": "code",
   "execution_count": null,
   "metadata": {},
   "outputs": [],
   "source": []
  },
  {
   "cell_type": "code",
   "execution_count": null,
   "metadata": {},
   "outputs": [],
   "source": []
  }
 ]
}