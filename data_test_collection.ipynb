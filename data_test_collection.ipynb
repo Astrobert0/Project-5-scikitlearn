{
 "metadata": {
  "language_info": {
   "codemirror_mode": {
    "name": "ipython",
    "version": 3
   },
   "file_extension": ".py",
   "mimetype": "text/x-python",
   "name": "python",
   "nbconvert_exporter": "python",
   "pygments_lexer": "ipython3",
   "version": 3
  },
  "orig_nbformat": 2
 },
 "nbformat": 4,
 "nbformat_minor": 2,
 "cells": [
  {
   "cell_type": "code",
   "execution_count": null,
   "metadata": {},
   "outputs": [],
   "source": [
    "from API import get_oauth_token\n",
    "from API import search_api\n",
    "from data_collection import API_query_input\n",
    "import pandas as pd\n",
    "import numpy as np\n",
    "\n",
    "house_profile= {}"
   ]
  },
  {
   "cell_type": "code",
   "execution_count": null,
   "metadata": {},
   "outputs": [],
   "source": [
    "token = get_oauth_token()\n"
   ]
  },
  {
   "cell_type": "code",
   "execution_count": null,
   "metadata": {},
   "outputs": [],
   "source": [
    "house_profile['operation'] = 'rent'\n",
    "pages = np.random.randint(50, high=100,size=5)\n",
    "url = 'http://api.idealista.com/3.5/pt/search?operation=rent&propertyType=homes&center=38.737037,-9.133802&distance=4000&maxItems=40'\n",
    "API_query_input(house_profile, url, pages, token)"
   ]
  },
  {
   "cell_type": "code",
   "execution_count": null,
   "metadata": {},
   "outputs": [],
   "source": [
    "house_profile['operation'] = 'sale'\n",
    "pages = np.random.randint(50, high=100,size=5)\n",
    "url = 'http://api.idealista.com/3.5/pt/search?operation=sale&propertyType=homes&center=38.737037,-9.133802&distance=4000&maxItems=40'\n",
    "API_query_input(house_profile, url, pages, token)"
   ]
  }
 ]
}