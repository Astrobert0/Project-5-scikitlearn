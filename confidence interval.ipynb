{
 "metadata": {
  "language_info": {
   "codemirror_mode": {
    "name": "ipython",
    "version": 3
   },
   "file_extension": ".py",
   "mimetype": "text/x-python",
   "name": "python",
   "nbconvert_exporter": "python",
   "pygments_lexer": "ipython3",
   "version": "3.8.5"
  },
  "orig_nbformat": 2,
  "kernelspec": {
   "name": "python385jvsc74a57bd09efc80705562ef6f8028ba9c07828938c290468cbec0ebcf2b44f68ee94d478d",
   "display_name": "Python 3.8.5 64-bit"
  },
  "metadata": {
   "interpreter": {
    "hash": "2740b07bebd5a9538dcad413d55b5f8f7bc0dae380b851836f69cf85491ff86f"
   }
  }
 },
 "nbformat": 4,
 "nbformat_minor": 2,
 "cells": [
  {
   "cell_type": "code",
   "execution_count": 1,
   "metadata": {},
   "outputs": [],
   "source": [
    "import numpy as np\n",
    "import matplotlib.pyplot as plt\n",
    "from scipy import stats\n",
    "import pandas as pd\n",
    "\n",
    "#In this file it will calculate the confidence interval of the columns price, size and priceByArea if the mean that we obtained in the SQL query is in our interval, we can consider the SQL query"
   ]
  },
  {
   "cell_type": "code",
   "execution_count": 2,
   "metadata": {},
   "outputs": [],
   "source": [
    "rent1 = pd.read_csv(\"rent.csv\") \n",
    "rent2 = pd.read_csv(\"rent_test_cleaned.csv\") \n",
    "\n",
    "sale1 = pd.read_csv(\"sale.csv\") \n",
    "sale2 = pd.read_csv(\"sale_test_cleaned.csv\") "
   ]
  },
  {
   "cell_type": "code",
   "execution_count": 3,
   "metadata": {},
   "outputs": [
    {
     "output_type": "execute_result",
     "data": {
      "text/plain": [
       "     propertyCode      price operation   size  rooms  bathrooms   latitude  \\\n",
       "0        31094622   695000.0      sale  250.0      6          2  38.731738   \n",
       "1        31092321   310000.0      sale   97.0      3          2  38.741437   \n",
       "2        31091396   290000.0      sale   63.0      2          1  38.722571   \n",
       "3        31087511   270000.0      sale   82.0      0          1  38.736866   \n",
       "4        31084137  1195000.0      sale  153.0      5          4  38.730729   \n",
       "..            ...        ...       ...    ...    ...        ...        ...   \n",
       "96       30947843   525000.0      sale   58.0      1          1  38.710602   \n",
       "97       30947782   525000.0      sale   76.0      1          1  38.710602   \n",
       "98       30947790   350000.0      sale  120.0      5          1  38.723460   \n",
       "99       30943529   275000.0      sale   69.0      2          1  38.732305   \n",
       "100      30934618   479900.0      sale  130.0      3          3  38.733478   \n",
       "\n",
       "     longitude  priceByArea propertyType  floorNumeric  \n",
       "0    -9.151303       2780.0         flat             2  \n",
       "1    -9.144852       3196.0       duplex             3  \n",
       "2    -9.133652       4603.0         flat             2  \n",
       "3    -9.160759       3293.0       studio             0  \n",
       "4    -9.147894       7810.0         flat             6  \n",
       "..         ...          ...          ...           ...  \n",
       "96   -9.147381       9052.0         flat             1  \n",
       "97   -9.149481       6908.0         flat             1  \n",
       "98   -9.141692       2917.0         flat             4  \n",
       "99   -9.138419       3986.0         flat             1  \n",
       "100  -9.129253       3692.0         flat             5  \n",
       "\n",
       "[101 rows x 11 columns]"
      ],
      "text/html": "<div>\n<style scoped>\n    .dataframe tbody tr th:only-of-type {\n        vertical-align: middle;\n    }\n\n    .dataframe tbody tr th {\n        vertical-align: top;\n    }\n\n    .dataframe thead th {\n        text-align: right;\n    }\n</style>\n<table border=\"1\" class=\"dataframe\">\n  <thead>\n    <tr style=\"text-align: right;\">\n      <th></th>\n      <th>propertyCode</th>\n      <th>price</th>\n      <th>operation</th>\n      <th>size</th>\n      <th>rooms</th>\n      <th>bathrooms</th>\n      <th>latitude</th>\n      <th>longitude</th>\n      <th>priceByArea</th>\n      <th>propertyType</th>\n      <th>floorNumeric</th>\n    </tr>\n  </thead>\n  <tbody>\n    <tr>\n      <th>0</th>\n      <td>31094622</td>\n      <td>695000.0</td>\n      <td>sale</td>\n      <td>250.0</td>\n      <td>6</td>\n      <td>2</td>\n      <td>38.731738</td>\n      <td>-9.151303</td>\n      <td>2780.0</td>\n      <td>flat</td>\n      <td>2</td>\n    </tr>\n    <tr>\n      <th>1</th>\n      <td>31092321</td>\n      <td>310000.0</td>\n      <td>sale</td>\n      <td>97.0</td>\n      <td>3</td>\n      <td>2</td>\n      <td>38.741437</td>\n      <td>-9.144852</td>\n      <td>3196.0</td>\n      <td>duplex</td>\n      <td>3</td>\n    </tr>\n    <tr>\n      <th>2</th>\n      <td>31091396</td>\n      <td>290000.0</td>\n      <td>sale</td>\n      <td>63.0</td>\n      <td>2</td>\n      <td>1</td>\n      <td>38.722571</td>\n      <td>-9.133652</td>\n      <td>4603.0</td>\n      <td>flat</td>\n      <td>2</td>\n    </tr>\n    <tr>\n      <th>3</th>\n      <td>31087511</td>\n      <td>270000.0</td>\n      <td>sale</td>\n      <td>82.0</td>\n      <td>0</td>\n      <td>1</td>\n      <td>38.736866</td>\n      <td>-9.160759</td>\n      <td>3293.0</td>\n      <td>studio</td>\n      <td>0</td>\n    </tr>\n    <tr>\n      <th>4</th>\n      <td>31084137</td>\n      <td>1195000.0</td>\n      <td>sale</td>\n      <td>153.0</td>\n      <td>5</td>\n      <td>4</td>\n      <td>38.730729</td>\n      <td>-9.147894</td>\n      <td>7810.0</td>\n      <td>flat</td>\n      <td>6</td>\n    </tr>\n    <tr>\n      <th>...</th>\n      <td>...</td>\n      <td>...</td>\n      <td>...</td>\n      <td>...</td>\n      <td>...</td>\n      <td>...</td>\n      <td>...</td>\n      <td>...</td>\n      <td>...</td>\n      <td>...</td>\n      <td>...</td>\n    </tr>\n    <tr>\n      <th>96</th>\n      <td>30947843</td>\n      <td>525000.0</td>\n      <td>sale</td>\n      <td>58.0</td>\n      <td>1</td>\n      <td>1</td>\n      <td>38.710602</td>\n      <td>-9.147381</td>\n      <td>9052.0</td>\n      <td>flat</td>\n      <td>1</td>\n    </tr>\n    <tr>\n      <th>97</th>\n      <td>30947782</td>\n      <td>525000.0</td>\n      <td>sale</td>\n      <td>76.0</td>\n      <td>1</td>\n      <td>1</td>\n      <td>38.710602</td>\n      <td>-9.149481</td>\n      <td>6908.0</td>\n      <td>flat</td>\n      <td>1</td>\n    </tr>\n    <tr>\n      <th>98</th>\n      <td>30947790</td>\n      <td>350000.0</td>\n      <td>sale</td>\n      <td>120.0</td>\n      <td>5</td>\n      <td>1</td>\n      <td>38.723460</td>\n      <td>-9.141692</td>\n      <td>2917.0</td>\n      <td>flat</td>\n      <td>4</td>\n    </tr>\n    <tr>\n      <th>99</th>\n      <td>30943529</td>\n      <td>275000.0</td>\n      <td>sale</td>\n      <td>69.0</td>\n      <td>2</td>\n      <td>1</td>\n      <td>38.732305</td>\n      <td>-9.138419</td>\n      <td>3986.0</td>\n      <td>flat</td>\n      <td>1</td>\n    </tr>\n    <tr>\n      <th>100</th>\n      <td>30934618</td>\n      <td>479900.0</td>\n      <td>sale</td>\n      <td>130.0</td>\n      <td>3</td>\n      <td>3</td>\n      <td>38.733478</td>\n      <td>-9.129253</td>\n      <td>3692.0</td>\n      <td>flat</td>\n      <td>5</td>\n    </tr>\n  </tbody>\n</table>\n<p>101 rows × 11 columns</p>\n</div>"
     },
     "metadata": {},
     "execution_count": 3
    }
   ],
   "source": [
    "rent1.drop(columns = 'Unnamed: 0')\n",
    "rent2.drop(columns = 'Unnamed: 0')\n",
    "\n",
    "sale1.drop(columns = 'Unnamed: 0')\n",
    "sale2.drop(columns = 'Unnamed: 0')\n"
   ]
  },
  {
   "cell_type": "code",
   "execution_count": 4,
   "metadata": {},
   "outputs": [],
   "source": [
    "rent = pd.concat([rent1, rent2])\n",
    "\n",
    "sale= pd.concat([sale1, sale2])"
   ]
  },
  {
   "cell_type": "code",
   "execution_count": 5,
   "metadata": {},
   "outputs": [
    {
     "output_type": "display_data",
     "data": {
      "text/plain": "        Unnamed: 0  propertyCode         price         size        rooms  \\\ncount  1139.000000  1.139000e+03   1139.000000  1139.000000  1139.000000   \nmean     28.181738  3.084195e+07   1700.598771   117.458077     2.429324   \nstd      34.098423  5.323983e+05   1164.980347    72.865512     1.537196   \nmin       0.000000  2.709148e+07    500.000000    25.000000     0.000000   \n25%      10.500000  3.078679e+07    977.500000    70.000000     1.000000   \n50%      21.000000  3.102366e+07   1400.000000   100.000000     2.000000   \n75%      32.000000  3.113183e+07   1950.000000   145.000000     3.000000   \nmax     199.000000  3.118968e+07  11500.000000   861.000000    25.000000   \n\n         bathrooms     latitude    longitude  priceByArea  floorNumeric  \ncount  1139.000000  1139.000000  1139.000000  1139.000000   1139.000000  \nmean      1.843723    38.728626    -9.145196    15.128183      3.024583  \nstd       1.005338     0.013762     0.013361     5.163350      2.321163  \nmin       1.000000    38.706342    -9.177195     6.000000      0.000000  \n25%       1.000000    38.717321    -9.153825    12.000000      1.000000  \n50%       2.000000    38.726725    -9.145774    14.000000      3.000000  \n75%       2.000000    38.738495    -9.136436    17.000000      4.000000  \nmax      11.000000    38.768298    -9.096129    46.000000     17.000000  ",
      "text/html": "<div>\n<style scoped>\n    .dataframe tbody tr th:only-of-type {\n        vertical-align: middle;\n    }\n\n    .dataframe tbody tr th {\n        vertical-align: top;\n    }\n\n    .dataframe thead th {\n        text-align: right;\n    }\n</style>\n<table border=\"1\" class=\"dataframe\">\n  <thead>\n    <tr style=\"text-align: right;\">\n      <th></th>\n      <th>Unnamed: 0</th>\n      <th>propertyCode</th>\n      <th>price</th>\n      <th>size</th>\n      <th>rooms</th>\n      <th>bathrooms</th>\n      <th>latitude</th>\n      <th>longitude</th>\n      <th>priceByArea</th>\n      <th>floorNumeric</th>\n    </tr>\n  </thead>\n  <tbody>\n    <tr>\n      <th>count</th>\n      <td>1139.000000</td>\n      <td>1.139000e+03</td>\n      <td>1139.000000</td>\n      <td>1139.000000</td>\n      <td>1139.000000</td>\n      <td>1139.000000</td>\n      <td>1139.000000</td>\n      <td>1139.000000</td>\n      <td>1139.000000</td>\n      <td>1139.000000</td>\n    </tr>\n    <tr>\n      <th>mean</th>\n      <td>28.181738</td>\n      <td>3.084195e+07</td>\n      <td>1700.598771</td>\n      <td>117.458077</td>\n      <td>2.429324</td>\n      <td>1.843723</td>\n      <td>38.728626</td>\n      <td>-9.145196</td>\n      <td>15.128183</td>\n      <td>3.024583</td>\n    </tr>\n    <tr>\n      <th>std</th>\n      <td>34.098423</td>\n      <td>5.323983e+05</td>\n      <td>1164.980347</td>\n      <td>72.865512</td>\n      <td>1.537196</td>\n      <td>1.005338</td>\n      <td>0.013762</td>\n      <td>0.013361</td>\n      <td>5.163350</td>\n      <td>2.321163</td>\n    </tr>\n    <tr>\n      <th>min</th>\n      <td>0.000000</td>\n      <td>2.709148e+07</td>\n      <td>500.000000</td>\n      <td>25.000000</td>\n      <td>0.000000</td>\n      <td>1.000000</td>\n      <td>38.706342</td>\n      <td>-9.177195</td>\n      <td>6.000000</td>\n      <td>0.000000</td>\n    </tr>\n    <tr>\n      <th>25%</th>\n      <td>10.500000</td>\n      <td>3.078679e+07</td>\n      <td>977.500000</td>\n      <td>70.000000</td>\n      <td>1.000000</td>\n      <td>1.000000</td>\n      <td>38.717321</td>\n      <td>-9.153825</td>\n      <td>12.000000</td>\n      <td>1.000000</td>\n    </tr>\n    <tr>\n      <th>50%</th>\n      <td>21.000000</td>\n      <td>3.102366e+07</td>\n      <td>1400.000000</td>\n      <td>100.000000</td>\n      <td>2.000000</td>\n      <td>2.000000</td>\n      <td>38.726725</td>\n      <td>-9.145774</td>\n      <td>14.000000</td>\n      <td>3.000000</td>\n    </tr>\n    <tr>\n      <th>75%</th>\n      <td>32.000000</td>\n      <td>3.113183e+07</td>\n      <td>1950.000000</td>\n      <td>145.000000</td>\n      <td>3.000000</td>\n      <td>2.000000</td>\n      <td>38.738495</td>\n      <td>-9.136436</td>\n      <td>17.000000</td>\n      <td>4.000000</td>\n    </tr>\n    <tr>\n      <th>max</th>\n      <td>199.000000</td>\n      <td>3.118968e+07</td>\n      <td>11500.000000</td>\n      <td>861.000000</td>\n      <td>25.000000</td>\n      <td>11.000000</td>\n      <td>38.768298</td>\n      <td>-9.096129</td>\n      <td>46.000000</td>\n      <td>17.000000</td>\n    </tr>\n  </tbody>\n</table>\n</div>"
     },
     "metadata": {}
    },
    {
     "output_type": "display_data",
     "data": {
      "text/plain": "        Unnamed: 0  propertyCode         price           size        rooms  \\\ncount  1085.000000  1.085000e+03  1.085000e+03    1085.000000  1085.000000   \nmean     25.128111  3.084732e+07  6.443558e+05     270.765069     2.529032   \nstd      25.843576  4.732907e+05  4.807943e+05    4706.559570     1.430537   \nmin       0.000000  2.809481e+07  8.300000e+04      18.000000     0.000000   \n25%      10.000000  3.075971e+07  3.299000e+05      70.000000     2.000000   \n50%      21.000000  3.103718e+07  5.050000e+05     108.000000     2.000000   \n75%      32.000000  3.114158e+07  8.120000e+05     155.000000     3.000000   \nmax     158.000000  3.118761e+07  4.950000e+06  155130.000000    15.000000   \n\n         bathrooms     latitude    longitude   priceByArea  floorNumeric  \ncount  1085.000000  1085.000000  1085.000000   1085.000000   1085.000000  \nmean      2.028571    38.728944    -9.142811   5201.233180      3.215668  \nstd       1.100199     0.014169     0.013893   1847.927436      2.435806  \nmin       0.000000    38.705185    -9.179190      4.000000     -1.000000  \n25%       1.000000    38.718126    -9.150802   3750.000000      1.000000  \n50%       2.000000    38.727430    -9.144365   4857.000000      3.000000  \n75%       3.000000    38.738725    -9.133181   6304.000000      5.000000  \nmax       8.000000    38.769015    -9.093210  17722.000000     21.000000  ",
      "text/html": "<div>\n<style scoped>\n    .dataframe tbody tr th:only-of-type {\n        vertical-align: middle;\n    }\n\n    .dataframe tbody tr th {\n        vertical-align: top;\n    }\n\n    .dataframe thead th {\n        text-align: right;\n    }\n</style>\n<table border=\"1\" class=\"dataframe\">\n  <thead>\n    <tr style=\"text-align: right;\">\n      <th></th>\n      <th>Unnamed: 0</th>\n      <th>propertyCode</th>\n      <th>price</th>\n      <th>size</th>\n      <th>rooms</th>\n      <th>bathrooms</th>\n      <th>latitude</th>\n      <th>longitude</th>\n      <th>priceByArea</th>\n      <th>floorNumeric</th>\n    </tr>\n  </thead>\n  <tbody>\n    <tr>\n      <th>count</th>\n      <td>1085.000000</td>\n      <td>1.085000e+03</td>\n      <td>1.085000e+03</td>\n      <td>1085.000000</td>\n      <td>1085.000000</td>\n      <td>1085.000000</td>\n      <td>1085.000000</td>\n      <td>1085.000000</td>\n      <td>1085.000000</td>\n      <td>1085.000000</td>\n    </tr>\n    <tr>\n      <th>mean</th>\n      <td>25.128111</td>\n      <td>3.084732e+07</td>\n      <td>6.443558e+05</td>\n      <td>270.765069</td>\n      <td>2.529032</td>\n      <td>2.028571</td>\n      <td>38.728944</td>\n      <td>-9.142811</td>\n      <td>5201.233180</td>\n      <td>3.215668</td>\n    </tr>\n    <tr>\n      <th>std</th>\n      <td>25.843576</td>\n      <td>4.732907e+05</td>\n      <td>4.807943e+05</td>\n      <td>4706.559570</td>\n      <td>1.430537</td>\n      <td>1.100199</td>\n      <td>0.014169</td>\n      <td>0.013893</td>\n      <td>1847.927436</td>\n      <td>2.435806</td>\n    </tr>\n    <tr>\n      <th>min</th>\n      <td>0.000000</td>\n      <td>2.809481e+07</td>\n      <td>8.300000e+04</td>\n      <td>18.000000</td>\n      <td>0.000000</td>\n      <td>0.000000</td>\n      <td>38.705185</td>\n      <td>-9.179190</td>\n      <td>4.000000</td>\n      <td>-1.000000</td>\n    </tr>\n    <tr>\n      <th>25%</th>\n      <td>10.000000</td>\n      <td>3.075971e+07</td>\n      <td>3.299000e+05</td>\n      <td>70.000000</td>\n      <td>2.000000</td>\n      <td>1.000000</td>\n      <td>38.718126</td>\n      <td>-9.150802</td>\n      <td>3750.000000</td>\n      <td>1.000000</td>\n    </tr>\n    <tr>\n      <th>50%</th>\n      <td>21.000000</td>\n      <td>3.103718e+07</td>\n      <td>5.050000e+05</td>\n      <td>108.000000</td>\n      <td>2.000000</td>\n      <td>2.000000</td>\n      <td>38.727430</td>\n      <td>-9.144365</td>\n      <td>4857.000000</td>\n      <td>3.000000</td>\n    </tr>\n    <tr>\n      <th>75%</th>\n      <td>32.000000</td>\n      <td>3.114158e+07</td>\n      <td>8.120000e+05</td>\n      <td>155.000000</td>\n      <td>3.000000</td>\n      <td>3.000000</td>\n      <td>38.738725</td>\n      <td>-9.133181</td>\n      <td>6304.000000</td>\n      <td>5.000000</td>\n    </tr>\n    <tr>\n      <th>max</th>\n      <td>158.000000</td>\n      <td>3.118761e+07</td>\n      <td>4.950000e+06</td>\n      <td>155130.000000</td>\n      <td>15.000000</td>\n      <td>8.000000</td>\n      <td>38.769015</td>\n      <td>-9.093210</td>\n      <td>17722.000000</td>\n      <td>21.000000</td>\n    </tr>\n  </tbody>\n</table>\n</div>"
     },
     "metadata": {}
    }
   ],
   "source": [
    "display(rent.describe(), sale.describe())"
   ]
  },
  {
   "cell_type": "code",
   "execution_count": 6,
   "metadata": {},
   "outputs": [
    {
     "output_type": "stream",
     "name": "stdout",
     "text": [
      "we are 95% confident that the price of the rent is  (1633.0023761327202, 1768.1951655705284) \n\nwe are 95% confident that the size of the rent is  (113.23015536539158, 121.68599915611851) \n\nwe are 95% confident that the price by area of the rent is  (14.828586294940568, 15.427778937719662) \n\n"
     ]
    }
   ],
   "source": [
    "#this cell will focus on the confidence interval of rent\n",
    "\n",
    "#price------------------------------------------\n",
    "sigma, mu = np.std(rent['price'], ddof=-1), np.mean(rent['price']) \n",
    "print('we are 95% confident that the price of the rent is ',  stats.norm.interval(0.95, loc=mu, scale= sigma/np.sqrt(len(rent['price']))), '\\n')\n",
    "\n",
    "#size-----------\n",
    "sigma, mu = np.std(rent['size'], ddof=-1), np.mean(rent['size']) \n",
    "print('we are 95% confident that the size of the rent is ',  stats.norm.interval(0.95, loc=mu, scale= sigma/np.sqrt(len(rent['price']))), '\\n')\n",
    "\n",
    "#price by area----------\n",
    "sigma, mu = np.std(rent['priceByArea'], ddof=-1), np.mean(rent['priceByArea']) \n",
    "print('we are 95% confident that the price by area of the rent is ',  stats.norm.interval(0.95, loc=mu, scale= sigma/np.sqrt(len(rent['price']))), '\\n')"
   ]
  },
  {
   "cell_type": "code",
   "execution_count": 12,
   "metadata": {},
   "outputs": [
    {
     "output_type": "stream",
     "name": "stdout",
     "text": [
      "we are 95% confident that the price of the sale is  (615773.8030464511, 672937.7582438715) \n\nwe are 80% confident that the size of the sale is  (174.4789298101412, 367.0512084387066) \n\nwe are 95% confident that the price by area of the sale is  (5091.378676672838, 5311.087682774166) \n\n"
     ]
    }
   ],
   "source": [
    "#this cell will focus on the confidence interval of sale\n",
    "\n",
    "#price------------------------------------------\n",
    "sigma, mu = np.std(sale['price'], ddof=-1), np.mean(sale['price']) \n",
    "print('we are 95% confident that the price of the sale is ',  stats.norm.interval(0.95, loc=mu, scale= sigma/np.sqrt(len(sale['price']))), '\\n')\n",
    "\n",
    "#size-----------\n",
    "sigma, mu = np.std(sale['size'], ddof=-1), np.mean(sale['size']) \n",
    "print('we are 80% confident that the size of the sale is ',  stats.norm.interval(0.50, loc=mu, scale= sigma/np.sqrt(len(sale['price']))), '\\n')\n",
    "\n",
    "#price by area----------\n",
    "sigma, mu = np.std(sale['priceByArea'], ddof=-1), np.mean(sale['priceByArea']) \n",
    "print('we are 95% confident that the price by area of the sale is ',  stats.norm.interval(0.95, loc=mu, scale= sigma/np.sqrt(len(sale['price']))), '\\n')"
   ]
  },
  {
   "cell_type": "code",
   "execution_count": null,
   "metadata": {},
   "outputs": [],
   "source": []
  }
 ]
}