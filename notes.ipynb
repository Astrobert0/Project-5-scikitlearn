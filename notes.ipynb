{
 "metadata": {
  "language_info": {
   "codemirror_mode": {
    "name": "ipython",
    "version": 3
   },
   "file_extension": ".py",
   "mimetype": "text/x-python",
   "name": "python",
   "nbconvert_exporter": "python",
   "pygments_lexer": "ipython3",
   "version": "3.8.5"
  },
  "orig_nbformat": 2,
  "kernelspec": {
   "name": "python385jvsc74a57bd09efc80705562ef6f8028ba9c07828938c290468cbec0ebcf2b44f68ee94d478d",
   "display_name": "Python 3.8.5 64-bit"
  }
 },
 "nbformat": 4,
 "nbformat_minor": 2,
 "cells": [
  {
   "cell_type": "code",
   "execution_count": 1,
   "metadata": {},
   "outputs": [],
   "source": [
    "import pandas as pd \r\n",
    "import matplotlib.pyplot as plt \r\n",
    "import seaborn as sns\r\n",
    "import numpy as np\r\n"
   ]
  },
  {
   "cell_type": "code",
   "execution_count": 2,
   "metadata": {},
   "outputs": [],
   "source": [
    "from sklearn.preprocessing import normalize\n",
    "from sklearn.model_selection import train_test_split\n",
    "from sklearn.linear_model import LinearRegression\n",
    "from sklearn.metrics import r2_score\n",
    "from sklearn.preprocessing import StandardScaler\n",
    "from sklearn import tree\n",
    "from sklearn.model_selection import cross_validate\n",
    "\n",
    "regr = LinearRegression()\n",
    "treereg = tree.DecisionTreeRegressor()"
   ]
  },
  {
   "cell_type": "code",
   "execution_count": 3,
   "metadata": {},
   "outputs": [],
   "source": [
    "dfrent = pd.read_csv('../Project-5-scikitlearn/rent.csv',index_col=False)\n",
    "dfsale = pd.read_csv('../Project-5-scikitlearn/sale.csv',index_col=False)\n",
    "\n",
    "dfsale.drop(columns = ['Unnamed: 0','propertyCode','operation'],inplace =True)\n",
    "dfrent.drop(columns = ['Unnamed: 0','propertyCode','operation'],inplace =True)"
   ]
  },
  {
   "cell_type": "code",
   "execution_count": 4,
   "metadata": {},
   "outputs": [],
   "source": [
    "rentdummy = pd.get_dummies(dfrent)\n",
    "saledummy = pd.get_dummies(dfsale)"
   ]
  },
  {
   "cell_type": "code",
   "execution_count": 5,
   "metadata": {},
   "outputs": [
    {
     "output_type": "execute_result",
     "data": {
      "text/plain": [
       "      price   size  rooms  bathrooms   latitude  longitude  priceByArea  \\\n",
       "0  750000.0  165.0      3          3  38.748643  -9.151992       4545.0   \n",
       "1  235000.0   78.0      2          1  38.749132  -9.104524       3013.0   \n",
       "2  209000.0   38.0      1          1  38.711398  -9.128863       5500.0   \n",
       "3  550000.0  128.0      3          2  38.728655  -9.140998       4297.0   \n",
       "4  455000.0   81.0      2          2  38.741566  -9.144532       5617.0   \n",
       "\n",
       "   floorNumeric  propertyType_duplex  propertyType_flat  \\\n",
       "0           1.0                    0                  1   \n",
       "1           5.0                    0                  1   \n",
       "2           3.0                    0                  1   \n",
       "3           2.0                    0                  1   \n",
       "4           4.0                    0                  1   \n",
       "\n",
       "   propertyType_penthouse  propertyType_studio  \n",
       "0                       0                    0  \n",
       "1                       0                    0  \n",
       "2                       0                    0  \n",
       "3                       0                    0  \n",
       "4                       0                    0  "
      ],
      "text/html": "<div>\n<style scoped>\n    .dataframe tbody tr th:only-of-type {\n        vertical-align: middle;\n    }\n\n    .dataframe tbody tr th {\n        vertical-align: top;\n    }\n\n    .dataframe thead th {\n        text-align: right;\n    }\n</style>\n<table border=\"1\" class=\"dataframe\">\n  <thead>\n    <tr style=\"text-align: right;\">\n      <th></th>\n      <th>price</th>\n      <th>size</th>\n      <th>rooms</th>\n      <th>bathrooms</th>\n      <th>latitude</th>\n      <th>longitude</th>\n      <th>priceByArea</th>\n      <th>floorNumeric</th>\n      <th>propertyType_duplex</th>\n      <th>propertyType_flat</th>\n      <th>propertyType_penthouse</th>\n      <th>propertyType_studio</th>\n    </tr>\n  </thead>\n  <tbody>\n    <tr>\n      <th>0</th>\n      <td>750000.0</td>\n      <td>165.0</td>\n      <td>3</td>\n      <td>3</td>\n      <td>38.748643</td>\n      <td>-9.151992</td>\n      <td>4545.0</td>\n      <td>1.0</td>\n      <td>0</td>\n      <td>1</td>\n      <td>0</td>\n      <td>0</td>\n    </tr>\n    <tr>\n      <th>1</th>\n      <td>235000.0</td>\n      <td>78.0</td>\n      <td>2</td>\n      <td>1</td>\n      <td>38.749132</td>\n      <td>-9.104524</td>\n      <td>3013.0</td>\n      <td>5.0</td>\n      <td>0</td>\n      <td>1</td>\n      <td>0</td>\n      <td>0</td>\n    </tr>\n    <tr>\n      <th>2</th>\n      <td>209000.0</td>\n      <td>38.0</td>\n      <td>1</td>\n      <td>1</td>\n      <td>38.711398</td>\n      <td>-9.128863</td>\n      <td>5500.0</td>\n      <td>3.0</td>\n      <td>0</td>\n      <td>1</td>\n      <td>0</td>\n      <td>0</td>\n    </tr>\n    <tr>\n      <th>3</th>\n      <td>550000.0</td>\n      <td>128.0</td>\n      <td>3</td>\n      <td>2</td>\n      <td>38.728655</td>\n      <td>-9.140998</td>\n      <td>4297.0</td>\n      <td>2.0</td>\n      <td>0</td>\n      <td>1</td>\n      <td>0</td>\n      <td>0</td>\n    </tr>\n    <tr>\n      <th>4</th>\n      <td>455000.0</td>\n      <td>81.0</td>\n      <td>2</td>\n      <td>2</td>\n      <td>38.741566</td>\n      <td>-9.144532</td>\n      <td>5617.0</td>\n      <td>4.0</td>\n      <td>0</td>\n      <td>1</td>\n      <td>0</td>\n      <td>0</td>\n    </tr>\n  </tbody>\n</table>\n</div>"
     },
     "metadata": {},
     "execution_count": 5
    }
   ],
   "source": [
    "saledummy.head()"
   ]
  },
  {
   "cell_type": "code",
   "execution_count": 6,
   "metadata": {},
   "outputs": [
    {
     "output_type": "execute_result",
     "data": {
      "text/plain": [
       "\"fig, ax = plt.subplots(2,6,sharex='none',figsize=(25,7))\\nsns.histplot(ax=ax[0,0], data=dfrent['price'],kde=True)\\nsns.histplot(ax=ax[0,1], data=dfrent['size'],kde=True)\\nsns.histplot(ax=ax[0,2], data=dfrent['rooms'],kde=True)\\nsns.histplot(ax=ax[0,3], data=dfrent['priceByArea'],kde=True)\\nsns.histplot(ax=ax[0,4], data=dfrent['bathrooms'],kde=True)\\nsns.histplot(ax=ax[0,5], data=dfrent['floorNumeric'],kde=True)\\n\\n\\nsns.boxplot(ax=ax[1,0],data=dfrent['price'],orient='h')\\nsns.boxplot(ax=ax[1,1],data=dfrent['size'],orient='h')\\nsns.boxplot(ax=ax[1,2],data= dfrent['rooms'],orient='h')\\nsns.boxplot(ax=ax[1,3],data=dfrent['priceByArea'],orient='h')\\nsns.boxplot(ax=ax[1,4], data=dfrent['bathrooms'],orient='h')\\nsns.boxplot(ax=ax[1,5], data=dfrent['floorNumeric'],orient='h')\""
      ]
     },
     "metadata": {},
     "execution_count": 6
    }
   ],
   "source": [
    "'''fig, ax = plt.subplots(2,6,sharex='none',figsize=(25,7))\n",
    "sns.histplot(ax=ax[0,0], data=dfrent['price'],kde=True)\n",
    "sns.histplot(ax=ax[0,1], data=dfrent['size'],kde=True)\n",
    "sns.histplot(ax=ax[0,2], data=dfrent['rooms'],kde=True)\n",
    "sns.histplot(ax=ax[0,3], data=dfrent['priceByArea'],kde=True)\n",
    "sns.histplot(ax=ax[0,4], data=dfrent['bathrooms'],kde=True)\n",
    "sns.histplot(ax=ax[0,5], data=dfrent['floorNumeric'],kde=True)\n",
    "\n",
    "\n",
    "sns.boxplot(ax=ax[1,0],data=dfrent['price'],orient='h')\n",
    "sns.boxplot(ax=ax[1,1],data=dfrent['size'],orient='h')\n",
    "sns.boxplot(ax=ax[1,2],data= dfrent['rooms'],orient='h')\n",
    "sns.boxplot(ax=ax[1,3],data=dfrent['priceByArea'],orient='h')\n",
    "sns.boxplot(ax=ax[1,4], data=dfrent['bathrooms'],orient='h')\n",
    "sns.boxplot(ax=ax[1,5], data=dfrent['floorNumeric'],orient='h')'''\n"
   ]
  },
  {
   "cell_type": "code",
   "execution_count": 7,
   "metadata": {},
   "outputs": [
    {
     "output_type": "stream",
     "name": "stdout",
     "text": [
      "standard 0.901551807537588\n",
      "raw 0.9021640311946652\n",
      "\n",
      "\n",
      "depth: 5   standard 0.84982176284082\n",
      "depth: 6   standard 0.8446698168496024\n",
      "depth: 7   standard 0.8856221986006038\n",
      "depth: 8   standard 0.8870986428170774\n",
      "depth: 9   standard 0.8766181012561189\n",
      "depth: 10   standard 0.8863111207153569\n",
      "\n",
      "\n",
      "depth: 5   raw 0.8281987573512817\n",
      "depth: 6   raw 0.8727109527463524\n",
      "depth: 7   raw 0.8720811744448997\n",
      "depth: 8   raw 0.8650084678635303\n",
      "depth: 9   raw 0.8717077981109641\n",
      "depth: 10   raw 0.8514751275087026\n",
      "\n",
      "\n",
      "[0.9021640311946652, 'regression', 'raw']\n"
     ]
    }
   ],
   "source": [
    "x_train, x_test, y_train, y_test = train_test_split(rentdummy[['size', 'rooms', 'bathrooms', 'latitude', 'longitude', 'priceByArea', 'floorNumeric', 'propertyType_duplex','propertyType_flat', 'propertyType_penthouse', 'propertyType_studio']], rentdummy['price'], test_size=0.75,train_size=0.25)\n",
    "\n",
    "#normalized\n",
    "x_train_normalized = normalize(x_train)\n",
    "x_test_normalized = normalize(x_test)\n",
    "\n",
    "y_train_normalized = normalize(np.array(y_train).reshape(-1,1))\n",
    "y_test_normalized = normalize(np.array(y_test).reshape(-1,1))\n",
    "\n",
    "\n",
    "\n",
    "#standardized\n",
    "x_train_standar = StandardScaler().fit_transform(x_train)\n",
    "x_test_standar = StandardScaler().fit_transform(x_test)\n",
    "\n",
    "y_train_standar = StandardScaler().fit_transform(np.array(y_train).reshape(-1,1))\n",
    "y_test_standar = StandardScaler().fit_transform(np.array(y_test).reshape(-1,1))\n",
    "\n",
    "\n",
    "xdic = {#'normalized': {'train':x_train_normalized,'test': x_test_normalized},\n",
    "  \n",
    "        'standard':{'train':x_train_standar,  'test':x_test_standar},\n",
    "\n",
    "        'raw':{'train':x_train,'test':x_test} }\n",
    "\n",
    "\n",
    "ydic = {#'normalized':{'train':y_train_normalized,'test':y_test_normalized},\n",
    "        \n",
    "        'standard':{'train':y_train_standar,'test':y_test_standar},\n",
    "        \n",
    "        'raw':{'train':y_train,'test':y_test} }\n",
    "\n",
    "best_acc = []\n",
    "acc_list = []\n",
    "for keys in xdic.keys():\n",
    "    model = regr.fit(xdic[keys]['train'], ydic[keys]['train'])\n",
    "    cv_acc = cross_validate(model, xdic[keys]['train'], ydic[keys]['train'], cv=10)['test_score'].mean()\n",
    "    best_acc.append([cv_acc,'regression', keys])\n",
    "    acc_list.append(cv_acc)\n",
    "    print(keys, cv_acc)\n",
    "\n",
    "print('\\n')\n",
    "\n",
    "\n",
    "for keys in xdic.keys():\n",
    "        for depth in range(5,11):\n",
    "                treereg = tree.DecisionTreeRegressor(max_depth=depth)\n",
    "                model = treereg.fit(xdic[keys]['train'],ydic[keys]['train'])\n",
    "                cv_acc = cross_validate(model, xdic[keys]['train'], ydic[keys]['train'], cv=10)['test_score'].mean()\n",
    "                best_acc.append([cv_acc,'tree', keys, depth])\n",
    "                acc_list.append(cv_acc)\n",
    "                print('depth:',depth,' ',keys, cv_acc)\n",
    "        print('\\n')\n",
    "\n",
    "for best in best_acc:\n",
    "        if best[0] == max(acc_list):\n",
    "                print(best)"
   ]
  },
  {
   "cell_type": "code",
   "execution_count": 12,
   "metadata": {},
   "outputs": [
    {
     "output_type": "execute_result",
     "data": {
      "text/plain": [
       "      price   size  rooms  bathrooms   latitude  longitude  priceByArea  \\\n",
       "0    1790.0  160.0      4          2  38.711039  -9.130707         11.0   \n",
       "1    1100.0   56.0      1          1  38.713890  -9.141274         20.0   \n",
       "2    1950.0  110.0      2          2  38.721599  -9.153305         18.0   \n",
       "3    1500.0  155.0      3          3  38.747178  -9.167657         10.0   \n",
       "4    1490.0  100.0      3          2  38.717097  -9.139251         15.0   \n",
       "..      ...    ...    ...        ...        ...        ...          ...   \n",
       "104   995.0   55.0      1          2  38.709199  -9.160593         18.0   \n",
       "105   990.0   90.0      2          1  38.715841  -9.144891         11.0   \n",
       "106  3000.0  230.0      4          3  38.724447  -9.159055         13.0   \n",
       "107  3000.0  110.0      1          1  38.713420  -9.145646         27.0   \n",
       "108  1350.0  125.0      3          2  38.765394  -9.150164         11.0   \n",
       "\n",
       "     floorNumeric  propertyType_duplex  propertyType_flat  \\\n",
       "0               4                    1                  0   \n",
       "1               4                    0                  1   \n",
       "2               2                    0                  1   \n",
       "3              11                    0                  1   \n",
       "4               5                    1                  0   \n",
       "..            ...                  ...                ...   \n",
       "104             2                    0                  1   \n",
       "105             2                    1                  0   \n",
       "106             1                    0                  1   \n",
       "107             4                    0                  1   \n",
       "108             2                    0                  1   \n",
       "\n",
       "     propertyType_penthouse  propertyType_studio  \n",
       "0                         0                    0  \n",
       "1                         0                    0  \n",
       "2                         0                    0  \n",
       "3                         0                    0  \n",
       "4                         0                    0  \n",
       "..                      ...                  ...  \n",
       "104                       0                    0  \n",
       "105                       0                    0  \n",
       "106                       0                    0  \n",
       "107                       0                    0  \n",
       "108                       0                    0  \n",
       "\n",
       "[109 rows x 12 columns]"
      ],
      "text/html": "<div>\n<style scoped>\n    .dataframe tbody tr th:only-of-type {\n        vertical-align: middle;\n    }\n\n    .dataframe tbody tr th {\n        vertical-align: top;\n    }\n\n    .dataframe thead th {\n        text-align: right;\n    }\n</style>\n<table border=\"1\" class=\"dataframe\">\n  <thead>\n    <tr style=\"text-align: right;\">\n      <th></th>\n      <th>price</th>\n      <th>size</th>\n      <th>rooms</th>\n      <th>bathrooms</th>\n      <th>latitude</th>\n      <th>longitude</th>\n      <th>priceByArea</th>\n      <th>floorNumeric</th>\n      <th>propertyType_duplex</th>\n      <th>propertyType_flat</th>\n      <th>propertyType_penthouse</th>\n      <th>propertyType_studio</th>\n    </tr>\n  </thead>\n  <tbody>\n    <tr>\n      <th>0</th>\n      <td>1790.0</td>\n      <td>160.0</td>\n      <td>4</td>\n      <td>2</td>\n      <td>38.711039</td>\n      <td>-9.130707</td>\n      <td>11.0</td>\n      <td>4</td>\n      <td>1</td>\n      <td>0</td>\n      <td>0</td>\n      <td>0</td>\n    </tr>\n    <tr>\n      <th>1</th>\n      <td>1100.0</td>\n      <td>56.0</td>\n      <td>1</td>\n      <td>1</td>\n      <td>38.713890</td>\n      <td>-9.141274</td>\n      <td>20.0</td>\n      <td>4</td>\n      <td>0</td>\n      <td>1</td>\n      <td>0</td>\n      <td>0</td>\n    </tr>\n    <tr>\n      <th>2</th>\n      <td>1950.0</td>\n      <td>110.0</td>\n      <td>2</td>\n      <td>2</td>\n      <td>38.721599</td>\n      <td>-9.153305</td>\n      <td>18.0</td>\n      <td>2</td>\n      <td>0</td>\n      <td>1</td>\n      <td>0</td>\n      <td>0</td>\n    </tr>\n    <tr>\n      <th>3</th>\n      <td>1500.0</td>\n      <td>155.0</td>\n      <td>3</td>\n      <td>3</td>\n      <td>38.747178</td>\n      <td>-9.167657</td>\n      <td>10.0</td>\n      <td>11</td>\n      <td>0</td>\n      <td>1</td>\n      <td>0</td>\n      <td>0</td>\n    </tr>\n    <tr>\n      <th>4</th>\n      <td>1490.0</td>\n      <td>100.0</td>\n      <td>3</td>\n      <td>2</td>\n      <td>38.717097</td>\n      <td>-9.139251</td>\n      <td>15.0</td>\n      <td>5</td>\n      <td>1</td>\n      <td>0</td>\n      <td>0</td>\n      <td>0</td>\n    </tr>\n    <tr>\n      <th>...</th>\n      <td>...</td>\n      <td>...</td>\n      <td>...</td>\n      <td>...</td>\n      <td>...</td>\n      <td>...</td>\n      <td>...</td>\n      <td>...</td>\n      <td>...</td>\n      <td>...</td>\n      <td>...</td>\n      <td>...</td>\n    </tr>\n    <tr>\n      <th>104</th>\n      <td>995.0</td>\n      <td>55.0</td>\n      <td>1</td>\n      <td>2</td>\n      <td>38.709199</td>\n      <td>-9.160593</td>\n      <td>18.0</td>\n      <td>2</td>\n      <td>0</td>\n      <td>1</td>\n      <td>0</td>\n      <td>0</td>\n    </tr>\n    <tr>\n      <th>105</th>\n      <td>990.0</td>\n      <td>90.0</td>\n      <td>2</td>\n      <td>1</td>\n      <td>38.715841</td>\n      <td>-9.144891</td>\n      <td>11.0</td>\n      <td>2</td>\n      <td>1</td>\n      <td>0</td>\n      <td>0</td>\n      <td>0</td>\n    </tr>\n    <tr>\n      <th>106</th>\n      <td>3000.0</td>\n      <td>230.0</td>\n      <td>4</td>\n      <td>3</td>\n      <td>38.724447</td>\n      <td>-9.159055</td>\n      <td>13.0</td>\n      <td>1</td>\n      <td>0</td>\n      <td>1</td>\n      <td>0</td>\n      <td>0</td>\n    </tr>\n    <tr>\n      <th>107</th>\n      <td>3000.0</td>\n      <td>110.0</td>\n      <td>1</td>\n      <td>1</td>\n      <td>38.713420</td>\n      <td>-9.145646</td>\n      <td>27.0</td>\n      <td>4</td>\n      <td>0</td>\n      <td>1</td>\n      <td>0</td>\n      <td>0</td>\n    </tr>\n    <tr>\n      <th>108</th>\n      <td>1350.0</td>\n      <td>125.0</td>\n      <td>3</td>\n      <td>2</td>\n      <td>38.765394</td>\n      <td>-9.150164</td>\n      <td>11.0</td>\n      <td>2</td>\n      <td>0</td>\n      <td>1</td>\n      <td>0</td>\n      <td>0</td>\n    </tr>\n  </tbody>\n</table>\n<p>109 rows × 12 columns</p>\n</div>"
     },
     "metadata": {},
     "execution_count": 12
    }
   ],
   "source": [
    "test_rent = pd.read_csv('../Project-5-scikitlearn/rent_test_cleaned.csv')\n",
    "test_rent.drop(columns = ['Unnamed: 0','propertyCode','operation'],inplace =True)\n",
    "\n",
    "test_rent_dummy = pd.get_dummies(test_rent)\n",
    "test_rent_dummy"
   ]
  },
  {
   "cell_type": "code",
   "execution_count": null,
   "metadata": {},
   "outputs": [],
   "source": [
    "test_rent_dummy"
   ]
  },
  {
   "cell_type": "code",
   "execution_count": null,
   "metadata": {},
   "outputs": [],
   "source": []
  },
  {
   "cell_type": "code",
   "execution_count": 8,
   "metadata": {},
   "outputs": [
    {
     "output_type": "stream",
     "name": "stdout",
     "text": [
      "standard 0.9045004620378047\n",
      "raw 0.9045748845337451\n",
      "\n",
      "\n",
      "depth: 5   standard 0.8092930475739291\n",
      "depth: 6   standard 0.8832658478490389\n",
      "depth: 7   standard 0.8262811728561378\n",
      "depth: 8   standard 0.8518876184671154\n",
      "depth: 9   standard 0.8680547707765278\n",
      "depth: 10   standard 0.8913813712691289\n",
      "\n",
      "\n",
      "depth: 5   raw 0.8786442014866893\n",
      "depth: 6   raw 0.8726042014992439\n",
      "depth: 7   raw 0.8858016052490258\n",
      "depth: 8   raw 0.8527134300874779\n",
      "depth: 9   raw 0.9138966413758052\n",
      "depth: 10   raw 0.8862246900565045\n",
      "\n",
      "\n",
      "[0.9138966413758052, 'tree', 'raw', 9]\n"
     ]
    }
   ],
   "source": [
    "x_train, x_test, y_train, y_test = train_test_split(saledummy[['size', 'rooms', 'bathrooms', 'latitude', 'longitude', 'priceByArea', 'floorNumeric', 'propertyType_duplex','propertyType_flat', 'propertyType_penthouse', 'propertyType_studio']], saledummy['price'], test_size=0.75,train_size=0.25)\n",
    "\n",
    "#normalized\n",
    "x_train_normalized = normalize(x_train)\n",
    "x_test_normalized = normalize(x_test)\n",
    "\n",
    "y_train_normalized = normalize(np.array(y_train).reshape(-1,1))\n",
    "y_test_normalized = normalize(np.array(y_test).reshape(-1,1))\n",
    "\n",
    "\n",
    "\n",
    "#standardized\n",
    "x_train_standar = StandardScaler().fit_transform(x_train)\n",
    "x_test_standar = StandardScaler().fit_transform(x_test)\n",
    "\n",
    "y_train_standar = StandardScaler().fit_transform(np.array(y_train).reshape(-1,1))\n",
    "y_test_standar = StandardScaler().fit_transform(np.array(y_test).reshape(-1,1))\n",
    "\n",
    "\n",
    "xdic = {#'normalized': {'train':x_train_normalized,'test': x_test_normalized},\n",
    "  \n",
    "        'standard':{'train':x_train_standar,  'test':x_test_standar},\n",
    "\n",
    "        'raw':{'train':x_train,'test':x_test} }\n",
    "\n",
    "\n",
    "ydic = {#'normalized':{'train':y_train_normalized,'test':y_test_normalized},\n",
    "        \n",
    "        'standard':{'train':y_train_standar,'test':y_test_standar},\n",
    "        \n",
    "        'raw':{'train':y_train,'test':y_test} }\n",
    "\n",
    "best_acc = []\n",
    "acc_list = []\n",
    "for keys in xdic.keys():\n",
    "    model = regr.fit(xdic[keys]['train'], ydic[keys]['train'])\n",
    "    cv_acc = cross_validate(model, xdic[keys]['train'], ydic[keys]['train'], cv=10)['test_score'].mean()\n",
    "    best_acc.append([cv_acc,'regression', keys])\n",
    "    acc_list.append(cv_acc)\n",
    "    print(keys, cv_acc)\n",
    "\n",
    "print('\\n')\n",
    "\n",
    "\n",
    "for keys in xdic.keys():\n",
    "        for depth in range(5,11):\n",
    "                treereg = tree.DecisionTreeRegressor(max_depth=depth)\n",
    "                model = treereg.fit(xdic[keys]['train'],ydic[keys]['train'])\n",
    "                cv_acc = cross_validate(model, xdic[keys]['train'], ydic[keys]['train'], cv=10)['test_score'].mean()\n",
    "                best_acc.append([cv_acc,'tree', keys, depth])\n",
    "                acc_list.append(cv_acc)\n",
    "                print('depth:',depth,' ',keys, cv_acc)\n",
    "        print('\\n')\n",
    "\n",
    "for best in best_acc:\n",
    "        if best[0] == max(acc_list):\n",
    "                print(best)"
   ]
  },
  {
   "cell_type": "code",
   "execution_count": 9,
   "metadata": {},
   "outputs": [
    {
     "output_type": "execute_result",
     "data": {
      "text/plain": [
       "\"fig, ax = plt.subplots(2,4,sharex='none',figsize=(15,7))\\nsns.histplot(ax=ax[0,0], data=dfsale['price'],kde=True)\\nsns.histplot(ax=ax[0,1], data=dfsale['size'],kde=True)\\nsns.histplot(ax=ax[0,2], data=dfsale['rooms'],kde=True)\\nsns.histplot(ax=ax[0,3], data=dfsale['priceByArea'],kde=True)\\n\\nsns.boxplot(ax=ax[1,0],data=dfsale['price'],orient='h')\\nsns.boxplot(ax=ax[1,1],data=dfsale['size'],orient='h')\\nsns.boxplot(ax=ax[1,2],data= dfsale['rooms'],orient='h')\\nsns.boxplot(ax=ax[1,3],data=dfsale['priceByArea'],orient='h')\""
      ]
     },
     "metadata": {},
     "execution_count": 9
    }
   ],
   "source": [
    "'''fig, ax = plt.subplots(2,4,sharex='none',figsize=(15,7))\n",
    "sns.histplot(ax=ax[0,0], data=dfsale['price'],kde=True)\n",
    "sns.histplot(ax=ax[0,1], data=dfsale['size'],kde=True)\n",
    "sns.histplot(ax=ax[0,2], data=dfsale['rooms'],kde=True)\n",
    "sns.histplot(ax=ax[0,3], data=dfsale['priceByArea'],kde=True)\n",
    "\n",
    "sns.boxplot(ax=ax[1,0],data=dfsale['price'],orient='h')\n",
    "sns.boxplot(ax=ax[1,1],data=dfsale['size'],orient='h')\n",
    "sns.boxplot(ax=ax[1,2],data= dfsale['rooms'],orient='h')\n",
    "sns.boxplot(ax=ax[1,3],data=dfsale['priceByArea'],orient='h')'''"
   ]
  },
  {
   "cell_type": "code",
   "execution_count": null,
   "metadata": {},
   "outputs": [],
   "source": []
  }
 ]
}