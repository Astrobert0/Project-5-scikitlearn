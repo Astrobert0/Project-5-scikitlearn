{
 "metadata": {
  "language_info": {
   "codemirror_mode": {
    "name": "ipython",
    "version": 3
   },
   "file_extension": ".py",
   "mimetype": "text/x-python",
   "name": "python",
   "nbconvert_exporter": "python",
   "pygments_lexer": "ipython3",
   "version": "3.9.4"
  },
  "orig_nbformat": 2,
  "kernelspec": {
   "name": "python394jvsc74a57bd02740b07bebd5a9538dcad413d55b5f8f7bc0dae380b851836f69cf85491ff86f",
   "display_name": "Python 3.9.4 64-bit"
  },
  "metadata": {
   "interpreter": {
    "hash": "2740b07bebd5a9538dcad413d55b5f8f7bc0dae380b851836f69cf85491ff86f"
   }
  }
 },
 "nbformat": 4,
 "nbformat_minor": 2,
 "cells": [
  {
   "cell_type": "code",
   "execution_count": 1,
   "metadata": {},
   "outputs": [],
   "source": [
    "import pandas as pd \n",
    "import matplotlib.pyplot as plt \n",
    "import seaborn as sns\n",
    "import numpy as np\n"
   ]
  },
  {
   "cell_type": "code",
   "execution_count": 2,
   "metadata": {},
   "outputs": [],
   "source": [
    "from sklearn.preprocessing import normalize\n",
    "from sklearn.model_selection import train_test_split\n",
    "from sklearn.linear_model import LinearRegression\n",
    "from sklearn.metrics import r2_score\n",
    "from sklearn.preprocessing import StandardScaler\n",
    "from sklearn import tree\n",
    "from sklearn.model_selection import cross_validate\n",
    "\n",
    "\"\"\"Since it is a regression problem, I will use the most regression friendly algorythms, those are dec.Tree, linear regr, knn and svm\"\"\"\n",
    "\n",
    "regr = LinearRegression()\n"
   ]
  },
  {
   "cell_type": "code",
   "execution_count": 3,
   "metadata": {},
   "outputs": [],
   "source": [
    "dfrent = pd.read_csv('../Project-5-scikitlearn/rent.csv',index_col=False)\n",
    "dfsale = pd.read_csv('../Project-5-scikitlearn/sale.csv',index_col=False)\n",
    "\n",
    "\n",
    "\n",
    "dfsale.drop(columns = ['Unnamed: 0','propertyCode','operation'],inplace =True)\n",
    "dfrent.drop(columns = ['Unnamed: 0','propertyCode','operation'],inplace =True)"
   ]
  },
  {
   "cell_type": "code",
   "execution_count": 4,
   "metadata": {},
   "outputs": [],
   "source": [
    "rentdummy = pd.get_dummies(dfrent)\n",
    "saledummy = pd.get_dummies(dfsale)"
   ]
  },
  {
   "cell_type": "code",
   "execution_count": 5,
   "metadata": {},
   "outputs": [
    {
     "output_type": "execute_result",
     "data": {
      "text/plain": [
       "price                     0\n",
       "size                      0\n",
       "rooms                     0\n",
       "bathrooms                 0\n",
       "latitude                  0\n",
       "longitude                 0\n",
       "priceByArea               0\n",
       "floorNumeric              0\n",
       "propertyType_duplex       0\n",
       "propertyType_flat         0\n",
       "propertyType_penthouse    0\n",
       "propertyType_studio       0\n",
       "dtype: int64"
      ]
     },
     "metadata": {},
     "execution_count": 5
    }
   ],
   "source": [
    "rentdummy.isnull().sum()"
   ]
  },
  {
   "cell_type": "code",
   "execution_count": 6,
   "metadata": {},
   "outputs": [
    {
     "output_type": "execute_result",
     "data": {
      "text/plain": [
       "\"fig, ax = plt.subplots(2,6,sharex='none',figsize=(25,7))\\nsns.histplot(ax=ax[0,0], data=dfrent['price'],kde=True)\\nsns.histplot(ax=ax[0,1], data=dfrent['size'],kde=True)\\nsns.histplot(ax=ax[0,2], data=dfrent['rooms'],kde=True)\\nsns.histplot(ax=ax[0,3], data=dfrent['priceByArea'],kde=True)\\nsns.histplot(ax=ax[0,4], data=dfrent['bathrooms'],kde=True)\\nsns.histplot(ax=ax[0,5], data=dfrent['floorNumeric'],kde=True)\\n\\n\\nsns.boxplot(ax=ax[1,0],data=dfrent['price'],orient='h')\\nsns.boxplot(ax=ax[1,1],data=dfrent['size'],orient='h')\\nsns.boxplot(ax=ax[1,2],data= dfrent['rooms'],orient='h')\\nsns.boxplot(ax=ax[1,3],data=dfrent['priceByArea'],orient='h')\\nsns.boxplot(ax=ax[1,4], data=dfrent['bathrooms'],orient='h')\\nsns.boxplot(ax=ax[1,5], data=dfrent['floorNumeric'],orient='h')\\n\""
      ]
     },
     "metadata": {},
     "execution_count": 6
    }
   ],
   "source": [
    "'''fig, ax = plt.subplots(2,6,sharex='none',figsize=(25,7))\n",
    "sns.histplot(ax=ax[0,0], data=dfrent['price'],kde=True)\n",
    "sns.histplot(ax=ax[0,1], data=dfrent['size'],kde=True)\n",
    "sns.histplot(ax=ax[0,2], data=dfrent['rooms'],kde=True)\n",
    "sns.histplot(ax=ax[0,3], data=dfrent['priceByArea'],kde=True)\n",
    "sns.histplot(ax=ax[0,4], data=dfrent['bathrooms'],kde=True)\n",
    "sns.histplot(ax=ax[0,5], data=dfrent['floorNumeric'],kde=True)\n",
    "\n",
    "\n",
    "sns.boxplot(ax=ax[1,0],data=dfrent['price'],orient='h')\n",
    "sns.boxplot(ax=ax[1,1],data=dfrent['size'],orient='h')\n",
    "sns.boxplot(ax=ax[1,2],data= dfrent['rooms'],orient='h')\n",
    "sns.boxplot(ax=ax[1,3],data=dfrent['priceByArea'],orient='h')\n",
    "sns.boxplot(ax=ax[1,4], data=dfrent['bathrooms'],orient='h')\n",
    "sns.boxplot(ax=ax[1,5], data=dfrent['floorNumeric'],orient='h')\n",
    "'''"
   ]
  },
  {
   "cell_type": "code",
   "execution_count": 7,
   "metadata": {},
   "outputs": [
    {
     "output_type": "stream",
     "name": "stdout",
     "text": [
      "standard 0.889132440391845\n",
      "raw 0.8897452108592876\n",
      "\n",
      "\n",
      "best [0.8897452108592876, 'regression', 'raw']\n",
      "worst [0.7855869450419137, 'tree', 'standard', 5]\n"
     ]
    }
   ],
   "source": [
    "x_train, x_test, y_train, y_test = train_test_split(rentdummy[['size', 'rooms', 'bathrooms', 'latitude', 'longitude', 'priceByArea', 'floorNumeric', 'propertyType_duplex','propertyType_flat', 'propertyType_penthouse', 'propertyType_studio']], rentdummy['price'], test_size=0.75,train_size=0.25, random_state=True)\n",
    "\n",
    "\n",
    "#standardized\n",
    "x_train_standar = StandardScaler().fit_transform(x_train)\n",
    "x_test_standar = StandardScaler().fit_transform(x_test)\n",
    "\n",
    "y_train_standar = StandardScaler().fit_transform(np.array(y_train).reshape(-1,1))\n",
    "y_test_standar = StandardScaler().fit_transform(np.array(y_test).reshape(-1,1))\n",
    "\n",
    "\n",
    "xdic = { 'standard':{'train':x_train_standar,  'test':x_test_standar},\n",
    "\n",
    "        'raw':{'train':x_train,'test':x_test} }\n",
    "\n",
    "\n",
    "ydic = {'standard':{'train':y_train_standar,'test':y_test_standar},\n",
    "        \n",
    "        'raw':{'train':y_train,'test':y_test} }\n",
    "\n",
    "best_acc = []\n",
    "acc_list = []\n",
    "\n",
    "for keys in xdic.keys(): #linear regression test loop\n",
    "    model = regr.fit(xdic[keys]['train'], ydic[keys]['train'])\n",
    "    cv_acc = cross_validate(model, xdic[keys]['train'], ydic[keys]['train'], cv=10)['test_score'].mean()\n",
    "    best_acc.append([cv_acc,'regression', keys])\n",
    "    acc_list.append(cv_acc)\n",
    "    print(keys, cv_acc)\n",
    "\n",
    "print('\\n')\n",
    "\n",
    "\n",
    "for keys in xdic.keys(): #Decision tree test loop\n",
    "        for depth in range(5,11):\n",
    "                treereg = tree.DecisionTreeRegressor(max_depth=depth)\n",
    "                model = treereg.fit(xdic[keys]['train'],ydic[keys]['train'])\n",
    "                cv_acc = cross_validate(model, xdic[keys]['train'], ydic[keys]['train'], cv=10)['test_score'].mean()\n",
    "                best_acc.append([cv_acc,'tree', keys, depth])\n",
    "                acc_list.append(cv_acc)\n",
    "\n",
    "for best in best_acc:\n",
    "        if best[0] == max(acc_list):\n",
    "                print(\"best\",best)\n",
    "        elif best[0]== min(acc_list):\n",
    "                print(\"worst\", best)"
   ]
  },
  {
   "cell_type": "code",
   "execution_count": 8,
   "metadata": {},
   "outputs": [
    {
     "output_type": "execute_result",
     "data": {
      "text/plain": [
       "0.9172909209384379"
      ]
     },
     "metadata": {},
     "execution_count": 8
    }
   ],
   "source": [
    "#The cross validation indicates that for the rent model, we will use regression and raw data\n",
    "rentmodel = regr.fit(xdic['raw']['train'], ydic['raw']['train'])\n",
    "rent_prediction = rentmodel.predict(xdic['raw']['test'])\n",
    "r2_score(ydic['raw']['test'], rent_prediction)"
   ]
  },
  {
   "cell_type": "code",
   "execution_count": 9,
   "metadata": {},
   "outputs": [
    {
     "output_type": "execute_result",
     "data": {
      "text/plain": [
       "0.9067707796785046"
      ]
     },
     "metadata": {},
     "execution_count": 9
    }
   ],
   "source": [
    "test_rent = pd.read_csv('../Project-5-scikitlearn/rent_test_cleaned.csv')\n",
    "test_rent.drop(columns = ['Unnamed: 0','propertyCode','operation'],inplace =True)\n",
    "\n",
    "test_rent_dummy = pd.get_dummies(test_rent)\n",
    "test_rent_dummy\n",
    "\n",
    "predict = rentmodel.predict(test_rent_dummy[['size', 'rooms', 'bathrooms', 'latitude', 'longitude', 'priceByArea', 'floorNumeric', 'propertyType_duplex','propertyType_flat', 'propertyType_penthouse', 'propertyType_studio']])\n",
    "r2_score(test_rent_dummy['price'], predict)"
   ]
  },
  {
   "cell_type": "code",
   "execution_count": null,
   "metadata": {},
   "outputs": [],
   "source": []
  },
  {
   "cell_type": "code",
   "execution_count": 11,
   "metadata": {},
   "outputs": [
    {
     "output_type": "stream",
     "name": "stdout",
     "text": [
      "standard 0.5492679916945792\n",
      "raw 0.7982156394524526\n",
      "\n",
      "\n",
      "depth: 5   standard 0.8567508707436703\n",
      "depth: 6   standard 0.8567508707436703\n",
      "depth: 7   standard 0.8567508707436703\n",
      "depth: 8   standard 0.8567508707436703\n",
      "depth: 9   standard 0.8567508707436703\n",
      "depth: 10   standard 0.8567508707436703\n",
      "\n",
      "\n",
      "depth: 5   raw 0.8567508707436703\n",
      "depth: 6   raw 0.8567508707436703\n",
      "depth: 7   raw 0.8567508707436703\n",
      "depth: 8   raw 0.8567508707436703\n",
      "depth: 9   raw 0.8567508707436703\n",
      "depth: 10   raw 0.8567508707436703\n",
      "\n",
      "\n",
      "worst [0.5437870608411567, 'tree', 'standard', 6]\n",
      "best [0.834332178975173, 'tree', 'standard', 7]\n"
     ]
    }
   ],
   "source": [
    "x_trainsale, x_testsale, y_trainsale, y_testsale = train_test_split(saledummy[['size', 'rooms', 'bathrooms', 'latitude', 'longitude', 'priceByArea', 'floorNumeric', 'propertyType_duplex','propertyType_flat', 'propertyType_penthouse', 'propertyType_studio']], saledummy['price'], test_size=0.75,train_size=0.25, random_state=True)\n",
    "\n",
    "\n",
    "#standardized\n",
    "x_train_standar_sale = StandardScaler().fit_transform(x_trainsale)\n",
    "x_test_standar_sale = StandardScaler().fit_transform(x_testsale)\n",
    "\n",
    "y_train_standar_sale = StandardScaler().fit_transform(np.array(y_trainsale).reshape(-1,1))\n",
    "y_test_standar_sale = StandardScaler().fit_transform(np.array(y_testsale).reshape(-1,1))\n",
    "\n",
    "\n",
    "xdicsale = {'standard':{'train':x_train_standar_sale,  'test':x_test_standar_sale},\n",
    "\n",
    "        'raw':{'train':x_trainsale,'test':x_testsale} }\n",
    "\n",
    "\n",
    "ydicsale = {'standard':{'train':y_train_standar_sale,'test':y_test_standar_sale},\n",
    "        \n",
    "        'raw':{'train':y_trainsale,'test':y_testsale} }\n",
    "\n",
    "best_accsale = []\n",
    "acc_listsale = []\n",
    "\n",
    "for keys in xdic.keys(): #Linear regression test loop\n",
    "    modelsale = regr.fit(xdicsale[keys]['train'], ydicsale[keys]['train'])\n",
    "    cv_accsale = cross_validate(model, xdicsale[keys]['train'], ydicsale[keys]['train'], cv=10)['test_score'].mean()\n",
    "    best_accsale.append([cv_accsale,'regression', keys])\n",
    "    acc_listsale.append(cv_accsale)\n",
    "    print(keys, cv_accsale)\n",
    "\n",
    "print('\\n')\n",
    "\n",
    "\n",
    "for keys in xdic.keys(): #Linear regression test loop\n",
    "        for depth in range(5,11):\n",
    "                treereg = tree.DecisionTreeRegressor(max_depth=depth)\n",
    "\n",
    "                model = treereg.fit(xdicsale[keys]['train'],ydicsale[keys]['train'])\n",
    "\n",
    "                cv_accsale = cross_validate(model, xdicsale[keys]['train'], ydicsale[keys]['train'], cv=10)['test_score'].mean()\n",
    "\n",
    "                best_accsale.append([cv_accsale,'tree', keys, depth])\n",
    "\n",
    "                acc_listsale.append(cv_accsale)\n",
    "                print('depth:',depth,' ',keys, cv_acc)\n",
    "        print('\\n')\n",
    "\n",
    "for best in best_accsale:\n",
    "        if best[0] == max(acc_listsale):\n",
    "                print(\"best\",best)\n",
    "        elif best[0]== min(acc_listsale):\n",
    "                print(\"worst\", best)"
   ]
  },
  {
   "cell_type": "code",
   "execution_count": 13,
   "metadata": {},
   "outputs": [
    {
     "output_type": "execute_result",
     "data": {
      "text/plain": [
       "0.7223728922685949"
      ]
     },
     "metadata": {},
     "execution_count": 13
    }
   ],
   "source": [
    "test_sale = pd.read_csv('../Project-5-scikitlearn/sale_test_cleaned.csv')\n",
    "test_sale.drop(columns = ['Unnamed: 0','propertyCode','operation'],inplace =True)\n",
    "\n",
    "test_sale_dummy = pd.get_dummies(test_sale)\n",
    "\n",
    "trees = tree.DecisionTreeRegressor(max_depth=7)\n",
    "\n",
    "salemodel = trees.fit(xdicsale['standard']['train'], ydicsale['standard']['train'])\n",
    "sale_predict = salemodel.predict(xdicsale['standard']['test'])\n",
    "r2_score(sale_predict, ydicsale['standard']['test'])"
   ]
  },
  {
   "cell_type": "code",
   "execution_count": null,
   "metadata": {},
   "outputs": [],
   "source": [
    "predict = model.predict(test_sale_dummy[['size', 'rooms', 'bathrooms', 'latitude', 'longitude', 'priceByArea', 'floorNumeric', 'propertyType_duplex','propertyType_flat', 'propertyType_penthouse', 'propertyType_studio']])\n",
    "r2_score(test_rent_dummy['price'], predict)"
   ]
  },
  {
   "cell_type": "code",
   "execution_count": 9,
   "metadata": {},
   "outputs": [
    {
     "output_type": "execute_result",
     "data": {
      "text/plain": [
       "\"fig, ax = plt.subplots(2,4,sharex='none',figsize=(15,7))\\nsns.histplot(ax=ax[0,0], data=dfsale['price'],kde=True)\\nsns.histplot(ax=ax[0,1], data=dfsale['size'],kde=True)\\nsns.histplot(ax=ax[0,2], data=dfsale['rooms'],kde=True)\\nsns.histplot(ax=ax[0,3], data=dfsale['priceByArea'],kde=True)\\n\\nsns.boxplot(ax=ax[1,0],data=dfsale['price'],orient='h')\\nsns.boxplot(ax=ax[1,1],data=dfsale['size'],orient='h')\\nsns.boxplot(ax=ax[1,2],data= dfsale['rooms'],orient='h')\\nsns.boxplot(ax=ax[1,3],data=dfsale['priceByArea'],orient='h')\""
      ]
     },
     "metadata": {},
     "execution_count": 9
    }
   ],
   "source": [
    "'''fig, ax = plt.subplots(2,4,sharex='none',figsize=(15,7))\n",
    "sns.histplot(ax=ax[0,0], data=dfsale['price'],kde=True)\n",
    "sns.histplot(ax=ax[0,1], data=dfsale['size'],kde=True)\n",
    "sns.histplot(ax=ax[0,2], data=dfsale['rooms'],kde=True)\n",
    "sns.histplot(ax=ax[0,3], data=dfsale['priceByArea'],kde=True)\n",
    "\n",
    "sns.boxplot(ax=ax[1,0],data=dfsale['price'],orient='h')\n",
    "sns.boxplot(ax=ax[1,1],data=dfsale['size'],orient='h')\n",
    "sns.boxplot(ax=ax[1,2],data= dfsale['rooms'],orient='h')\n",
    "sns.boxplot(ax=ax[1,3],data=dfsale['priceByArea'],orient='h')'''"
   ]
  },
  {
   "cell_type": "code",
   "execution_count": null,
   "metadata": {},
   "outputs": [],
   "source": []
  }
 ]
}