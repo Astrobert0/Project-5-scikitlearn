{
 "metadata": {
  "language_info": {
   "codemirror_mode": {
    "name": "ipython",
    "version": 3
   },
   "file_extension": ".py",
   "mimetype": "text/x-python",
   "name": "python",
   "nbconvert_exporter": "python",
   "pygments_lexer": "ipython3",
   "version": "3.8.5"
  },
  "orig_nbformat": 2,
  "kernelspec": {
   "name": "python385jvsc74a57bd09efc80705562ef6f8028ba9c07828938c290468cbec0ebcf2b44f68ee94d478d",
   "display_name": "Python 3.8.5 64-bit"
  }
 },
 "nbformat": 4,
 "nbformat_minor": 2,
 "cells": [
  {
   "cell_type": "code",
   "execution_count": 1,
   "metadata": {},
   "outputs": [],
   "source": [
    "from API import get_oauth_token\n",
    "from API import search_api\n",
    "from data_collection import API_query_input\n",
    "import pandas as pd\n",
    "import numpy as np\n",
    "\n",
    "#The objective of this file is to retreive a big ammount of data and save it as a csv file in Data_rent/Data_sale folders, with the url we change the parameters manually\n",
    "house_profile= {}"
   ]
  },
  {
   "cell_type": "code",
   "execution_count": null,
   "metadata": {},
   "outputs": [],
   "source": [
    "token = get_oauth_token()\n",
    "house_profile= {}\n",
    "house_profile['operation'] = 'sale'\n",
    "url = 'http://api.idealista.com/3.5/pt/search?operation=sale&propertyType=homes&center=38.737037,-9.133802&distance=4000&maxItems=40' #changed manualy the sale and rent values\n",
    "\n",
    "#this was the first two queries to get the training data form the model\n",
    "\n",
    "if house_profile['operation'] == 'rent':\n",
    "\n",
    "    for number in range(1,40):\n",
    "        numpage = f'&numPage={number}'\n",
    "        urlpage = url+numpage\n",
    "        data = search_api(token['access_token'], urlpage)\n",
    "        print(data['actualPage'])\n",
    "        df = pd.DataFrame(data['elementList'])\n",
    "        df.to_csv(f'../Project-5-scikitlearn/Data_rent/rent_page_{number}.csv')\n",
    "        time.sleep(3)\n",
    "\n",
    "elif house_profile['operation'] == 'sale':\n",
    "\n",
    "    for number in range(1,40):\n",
    "        numpage = f'&numPage={number}'\n",
    "        urlpage = url+numpage\n",
    "        data = search_api(token['access_token'], urlpage)\n",
    "        print(data['actualPage'])\n",
    "        df = pd.DataFrame(data['elementList'])\n",
    "        df.to_csv(f'../Project-5-scikitlearn/Data_sale/sale_page_{number}.csv')\n",
    "        time.sleep(3)"
   ]
  }
 ]
}